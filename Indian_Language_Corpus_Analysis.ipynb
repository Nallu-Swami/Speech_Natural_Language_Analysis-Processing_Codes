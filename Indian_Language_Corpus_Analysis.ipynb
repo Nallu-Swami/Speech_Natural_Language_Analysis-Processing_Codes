{
 "cells": [
  {
   "cell_type": "markdown",
   "id": "08357932-faec-4fb5-adcf-f6042884e329",
   "metadata": {},
   "source": [
    "# Corpora Analysis of Indian Language"
   ]
  },
  {
   "cell_type": "code",
   "execution_count": 30,
   "id": "f4e405aa-a1d9-4958-b7ee-18c69ec7474f",
   "metadata": {},
   "outputs": [],
   "source": [
    "import re\n",
    "from collections import Counter\n",
    "from indicnlp.tokenize import indic_tokenize\n",
    "from indicnlp.normalize.indic_normalize import IndicNormalizerFactory\n",
    "import nltk\n",
    "from nltk.probability import FreqDist"
   ]
  },
  {
   "cell_type": "code",
   "execution_count": 31,
   "id": "930b5203-0de2-47c8-8dde-d850e3b44308",
   "metadata": {},
   "outputs": [],
   "source": [
    "def normalize_text(text, lang='hi'):\n",
    "    normalizer_factory = IndicNormalizerFactory()\n",
    "    normalizer = normalizer_factory.get_normalizer(lang)\n",
    "    normalized_text = normalizer.normalize(text)\n",
    "    return normalized_text"
   ]
  },
  {
   "cell_type": "code",
   "execution_count": 32,
   "id": "053c7d7f-b056-421a-9e26-901b8f87f7e5",
   "metadata": {},
   "outputs": [],
   "source": [
    "\n",
    "def type_token_analysis(text):\n",
    "    tokens = indic_tokenize.trivial_tokenize(text)\n",
    "    types = set(tokens)\n",
    "    type_token_ratio = len(types) / len(tokens)\n",
    "    return type_token_ratio, tokens, types"
   ]
  },
  {
   "cell_type": "code",
   "execution_count": 33,
   "id": "3af70a3a-1a84-401b-a2a8-cce17b10b155",
   "metadata": {},
   "outputs": [],
   "source": [
    "def syllable_analysis(text):\n",
    "    syllables = []\n",
    "    words = indic_tokenize.trivial_tokenize(text)\n",
    "    \n",
    "    for word in words:\n",
    "        syllables.extend(re.findall(r'[क-ह]+', word))\n",
    "    syllable_freq = FreqDist(syllables)\n",
    "    most_common_syllables = syllable_freq.most_common(10)\n",
    "    \n",
    "    initial_syllables = Counter()\n",
    "    medial_syllables = Counter()\n",
    "    final_syllables = Counter()\n",
    "    \n",
    "    for word in words:\n",
    "        word_syllables = re.findall(r'[क-ह]+', word)\n",
    "        if word_syllables:\n",
    "            initial_syllables[word_syllables[0]] += 1\n",
    "            if len(word_syllables) > 1:\n",
    "                medial_syllables.update(word_syllables[1:-1])\n",
    "            if len(word_syllables) > 1:\n",
    "                final_syllables[word_syllables[-1]] += 1\n",
    "    \n",
    "    return most_common_syllables, initial_syllables.most_common(10), medial_syllables.most_common(10), final_syllables.most_common(10)"
   ]
  },
  {
   "cell_type": "markdown",
   "id": "a0fab087-4f6c-47cc-bf9e-c3559b01085d",
   "metadata": {},
   "source": [
    "# Analysis Done on Language Hindi using NLTK"
   ]
  },
  {
   "cell_type": "code",
   "execution_count": 34,
   "id": "33e79100-a749-4f70-83b4-9f986f10f94b",
   "metadata": {},
   "outputs": [],
   "source": [
    "def syllable_analysis(text):\n",
    "    syllables = []\n",
    "    words = indic_tokenize.trivial_tokenize(text)\n",
    "    \n",
    "    for word in words:\n",
    "        syllables.extend(re.findall(r'[क-ह]+', word))\n",
    "    syllable_freq = FreqDist(syllables)\n",
    "    most_common_syllables = syllable_freq.most_common(10)\n",
    "    \n",
    "    initial_syllables = Counter()\n",
    "    medial_syllables = Counter()\n",
    "    final_syllables = Counter()\n",
    "    \n",
    "    for word in words:\n",
    "        word_syllables = re.findall(r'[क-ह]+', word)\n",
    "        if word_syllables:\n",
    "            initial_syllables[word_syllables[0]] += 1\n",
    "            if len(word_syllables) > 1:\n",
    "                medial_syllables.update(word_syllables[1:-1])\n",
    "            if len(word_syllables) > 1:\n",
    "                final_syllables[word_syllables[-1]] += 1\n",
    "    \n",
    "    return most_common_syllables, initial_syllables.most_common(10), medial_syllables.most_common(10), final_syllables.most_common(10)"
   ]
  },
  {
   "cell_type": "markdown",
   "id": "ddf50ab2-30a5-478d-b91a-90813d7c10f6",
   "metadata": {},
   "source": [
    "# Output of the follwoing Analysis\n"
   ]
  },
  {
   "cell_type": "code",
   "execution_count": 39,
   "id": "31b16dc9-6661-45ff-be26-316b52bf003e",
   "metadata": {},
   "outputs": [
    {
     "name": "stdout",
     "output_type": "stream",
     "text": [
      "Type-Token Ratio: 0.1927453027139875\n",
      "Most Frequent Syllables:\n",
      "[('ह', 3180), ('क', 2459), ('र', 2406), ('त', 2400), ('न', 1685), ('स', 1581), ('ग', 1315), ('द', 1260), ('म', 1253), ('ज', 984)]\n",
      "\n",
      "Most Frequent Initial Syllables:\n",
      "[('ह', 2860), ('क', 1818), ('त', 943), ('स', 886), ('म', 877), ('ज', 779), ('नह', 739), ('द', 603), ('ग', 594), ('न', 554)]\n",
      "\n",
      "Most Frequent Medial Syllables:\n",
      "[('र', 568), ('द', 480), ('ग', 398), ('क', 397), ('प', 273), ('त', 258), ('श', 249), ('य', 231), ('न', 230), ('स', 222)]\n",
      "\n",
      "Most Frequent Final Syllables:\n",
      "[('र', 1417), ('त', 1199), ('न', 901), ('स', 473), ('य', 428), ('ल', 373), ('ग', 323), ('क', 244), ('म', 233), ('छ', 208)]\n",
      "\n"
     ]
    }
   ],
   "source": [
    "def main():\n",
    "    corpus_file_path = 'demotext.txt'\n",
    "    text = load_corpus(corpus_file_path)\n",
    "    text = normalize_text(text)\n",
    "\n",
    "    type_token_ratio, tokens, types = type_token_analysis(text)\n",
    "    print(f'Type-Token Ratio: {type_token_ratio}')\n",
    "    \n",
    "    most_common_syllables, initial_syllables, medial_syllables, final_syllables = syllable_analysis(text)\n",
    "    print(f'Most Frequent Syllables:\\n{most_common_syllables}\\n')\n",
    "    print(f'Most Frequent Initial Syllables:\\n{initial_syllables}\\n')\n",
    "    print(f'Most Frequent Medial Syllables:\\n{medial_syllables}\\n')\n",
    "    print(f'Most Frequent Final Syllables:\\n{final_syllables}\\n')\n",
    "\n",
    "if __name__ == '__main__':\n",
    "    main()"
   ]
  },
  {
   "cell_type": "code",
   "execution_count": null,
   "id": "c6a9a603-a6e5-4607-a312-a8528b89f61c",
   "metadata": {},
   "outputs": [],
   "source": []
  }
 ],
 "metadata": {
  "kernelspec": {
   "display_name": "Python 3 (ipykernel)",
   "language": "python",
   "name": "python3"
  },
  "language_info": {
   "codemirror_mode": {
    "name": "ipython",
    "version": 3
   },
   "file_extension": ".py",
   "mimetype": "text/x-python",
   "name": "python",
   "nbconvert_exporter": "python",
   "pygments_lexer": "ipython3",
   "version": "3.12.4"
  }
 },
 "nbformat": 4,
 "nbformat_minor": 5
}
