{
 "cells": [
  {
   "cell_type": "code",
   "execution_count": null,
   "id": "aa90b018-8899-458d-8275-c7497246b1a0",
   "metadata": {},
   "outputs": [],
   "source": [
    "from transformers import BertTokenizer, BertForTokenClassification\n",
    "from transformers import pipeline\n",
    "import torch"
   ]
  },
  {
   "cell_type": "code",
   "execution_count": null,
   "id": "d40001a4-7a71-4541-a776-e2f311747984",
   "metadata": {},
   "outputs": [],
   "source": [
    "tokenizer = BertTokenizer.from_pretrained('bert-base-cased')"
   ]
  },
  {
   "cell_type": "code",
   "execution_count": null,
   "id": "9ebdbe00-6e58-4920-8ea7-ea24dade5773",
   "metadata": {},
   "outputs": [],
   "source": [
    "def get_named_entities(text):\n",
    "    \"\"\"\n",
    "    Function to perform Named Entity Recognition (NER) on a given input text using a pre-trained BERT model.\n",
    "    \"\"\"\n",
    "    # Tokenize the input text and get token IDs\n",
    "    inputs = tokenizer(text, return_tensors=\"pt\")  # 'pt' means PyTorch tensor format\n",
    "\n",
    "    # Forward pass through the model to get predictions\n",
    "    outputs = model(**inputs).logits\n",
    "\n",
    "    # Get predicted class indices for each token\n",
    "    predictions = torch.argmax(outputs, dim=2)\n",
    "\n",
    "    # Map predictions to token labels\n",
    "    labels = [model.config.id2label[prediction.item()] for prediction in predictions[0]]\n",
    "\n",
    "    # Decode tokens from input text\n",
    "    tokens = tokenizer.convert_ids_to_tokens(inputs[\"input_ids\"][0])\n",
    "\n",
    "    # Return list of tokens and corresponding labels (NER classes)\n",
    "    return list(zip(tokens, labels))"
   ]
  },
  {
   "cell_type": "code",
   "execution_count": null,
   "id": "67c56fa3-cf71-4115-aa66-c9956a6017be",
   "metadata": {},
   "outputs": [],
   "source": [
    "text = \"John Doe works at OpenAI and lives in San Francisco.\""
   ]
  },
  {
   "cell_type": "code",
   "execution_count": null,
   "id": "d3a2b62c-6636-4716-9799-cacd2a97d24e",
   "metadata": {},
   "outputs": [],
   "source": [
    "entities = get_named_entities(text)\n",
    "\n",
    "# Print the tokens and their corresponding named entity labels\n",
    "print(\"\\nNamed Entities in the input text:\")\n",
    "for token, label in entities:\n",
    "    print(f\"{token}: {label}\")\n"
   ]
  },
  {
   "cell_type": "code",
   "execution_count": null,
   "id": "459fd2bc-c35b-4227-8229-7bdb5a6c461b",
   "metadata": {},
   "outputs": [],
   "source": [
    "ner_pipeline = pipeline(\"ner\", model=model, tokenizer=tokenizer)\n",
    "\n",
    "# Use the pipeline on the same sample text\n",
    "print(\"\\nNER Pipeline Output:\")\n",
    "for entity in ner_pipeline(text):\n",
    "    print(f\"{entity['word']} -> {entity['entity']} (Score: {entity['score']:.2f})\")"
   ]
  }
 ],
 "metadata": {
  "kernelspec": {
   "display_name": "Python 3 (ipykernel)",
   "language": "python",
   "name": "python3"
  },
  "language_info": {
   "codemirror_mode": {
    "name": "ipython",
    "version": 3
   },
   "file_extension": ".py",
   "mimetype": "text/x-python",
   "name": "python",
   "nbconvert_exporter": "python",
   "pygments_lexer": "ipython3",
   "version": "3.12.4"
  }
 },
 "nbformat": 4,
 "nbformat_minor": 5
}
