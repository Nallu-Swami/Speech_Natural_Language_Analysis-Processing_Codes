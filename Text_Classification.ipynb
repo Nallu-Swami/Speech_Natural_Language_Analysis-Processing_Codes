{
 "cells": [
  {
   "cell_type": "markdown",
   "id": "23001f97-39d3-437d-b19c-dccd6d7f15c0",
   "metadata": {},
   "source": [
    "# Text Classification on SMS Spamming"
   ]
  },
  {
   "cell_type": "code",
   "execution_count": 96,
   "id": "1aa46e47-ef3b-4262-8dfa-f76c65913bbb",
   "metadata": {},
   "outputs": [],
   "source": [
    "import pandas as pd\n",
    "import numpy as np\n",
    "import ssl\n",
    "import nltk\n",
    "from nltk.corpus import stopwords\n",
    "from sklearn.model_selection import train_test_split\n",
    "from sklearn.feature_extraction.text import CountVectorizer\n",
    "from sklearn.linear_model import LogisticRegression\n",
    "from sklearn.metrics import accuracy_score\n",
    "from sklearn.impute import SimpleImputer\n",
    "from nltk.corpus import stopwords\n",
    "from nltk.stem import PorterStemmer"
   ]
  },
  {
   "cell_type": "code",
   "execution_count": 85,
   "id": "88eeeee8-91e5-400c-88ac-834057f3eca3",
   "metadata": {},
   "outputs": [
    {
     "name": "stdout",
     "output_type": "stream",
     "text": [
      "     label                                               text\n",
      "0      ham  Go until jurong point, crazy.. Available only ...\n",
      "1      ham                      Ok lar... Joking wif u oni...\n",
      "2     spam  Free entry in 2 a wkly comp to win FA Cup fina...\n",
      "3      ham  U dun say so early hor... U c already then say...\n",
      "4      ham  Nah I don't think he goes to usf, he lives aro...\n",
      "...    ...                                                ...\n",
      "5567  spam  This is the 2nd time we have tried 2 contact u...\n",
      "5568   ham               Will ü b going to esplanade fr home?\n",
      "5569   ham  Pity, * was in mood for that. So...any other s...\n",
      "5570   ham  The guy did some bitching but I acted like i'd...\n",
      "5571   ham                         Rofl. Its true to its name\n",
      "\n",
      "[5572 rows x 2 columns]\n"
     ]
    }
   ],
   "source": [
    "url = \"/Users/aringy/Downloads/smsspamcollection/SMSSpamCollection\"\n",
    "df = pd.read_csv(url, sep='\\t', header=None, names=['label', 'text'])\n",
    "print(df)\n",
    "df['label'] = df['label'].map({'ham': 1, 'spam': 0})\n",
    "X_train, X_test, y_train, y_test = train_test_split(df['text'], df['label'], test_size=0.2, random_state=42)\n",
    "\n"
   ]
  },
  {
   "cell_type": "code",
   "execution_count": 100,
   "id": "6413220c-d58c-4c22-90be-813fc9d0f703",
   "metadata": {},
   "outputs": [
    {
     "name": "stdout",
     "output_type": "stream",
     "text": [
      "      label                                               text\n",
      "0         1  Go until jurong point, crazy.. Available only ...\n",
      "1         1                      Ok lar... Joking wif u oni...\n",
      "2         0  Free entry in 2 a wkly comp to win FA Cup fina...\n",
      "3         1  U dun say so early hor... U c already then say...\n",
      "4         1  Nah I don't think he goes to usf, he lives aro...\n",
      "...     ...                                                ...\n",
      "5567      0  This is the 2nd time we have tried 2 contact u...\n",
      "5568      1               Will ü b going to esplanade fr home?\n",
      "5569      1  Pity, * was in mood for that. So...any other s...\n",
      "5570      1  The guy did some bitching but I acted like i'd...\n",
      "5571      1                         Rofl. Its true to its name\n",
      "\n",
      "[5572 rows x 2 columns]\n"
     ]
    }
   ],
   "source": [
    "print(df)"
   ]
  },
  {
   "cell_type": "code",
   "execution_count": 97,
   "id": "d5291d5e-33bf-46cc-ac04-aeb3f48f8ba6",
   "metadata": {},
   "outputs": [],
   "source": [
    "# stop_words = set(stopwords.words('english'))\n",
    "stop_words = stopwords.words('english')\n",
    "ps = PorterStemmer()\n",
    "\n",
    "def preprocess(text, use_stemming=True, remove_stopwords=True):\n",
    "    words = text.lower().split()\n",
    "    if remove_stopwords:\n",
    "        words = [word for word in words if word not in stop_words]\n",
    "    if use_stemming:\n",
    "        words = [ps.stem(word) for word in words]\n",
    "    return ' '.join(words)"
   ]
  },
  {
   "cell_type": "markdown",
   "id": "6b0189c5-1f84-48df-91aa-47f6d4c4f646",
   "metadata": {},
   "source": [
    "# Training a Linear Regression Model"
   ]
  },
  {
   "cell_type": "code",
   "execution_count": 98,
   "id": "b3873352-900c-451f-bf5e-0157fc6335b7",
   "metadata": {},
   "outputs": [
    {
     "name": "stdout",
     "output_type": "stream",
     "text": [
      "Accuracy with preprocessing: 0.9865470852017937\n"
     ]
    }
   ],
   "source": [
    "# Apply preprocessing\n",
    "X_train_processed = X_train.apply(lambda x: preprocess(x))\n",
    "X_test_processed = X_test.apply(lambda x: preprocess(x))\n",
    "\n",
    "# Fit the vectorizer only on the preprocessed training data\n",
    "vectorizer = CountVectorizer()\n",
    "X_train_vect = vectorizer.fit_transform(X_train_processed)\n",
    "X_test_vect = vectorizer.transform(X_test_processed)\n",
    "\n",
    "# Train the model\n",
    "model = LogisticRegression()\n",
    "model.fit(X_train_vect, y_train)\n",
    "\n",
    "# Predict and evaluate\n",
    "y_pred = model.predict(X_test_vect)\n",
    "print(\"Accuracy with preprocessing:\", accuracy_score(y_test, y_pred))\n"
   ]
  },
  {
   "cell_type": "code",
   "execution_count": 99,
   "id": "c0b774f6-9578-41e9-a2b7-33f2ffc3b5c4",
   "metadata": {},
   "outputs": [
    {
     "name": "stdout",
     "output_type": "stream",
     "text": [
      "Accuracy with preprocessing: 0.9865470852017937\n"
     ]
    }
   ],
   "source": [
    "model_processed = LogisticRegression()\n",
    "model_processed.fit(X_train_processed_vect, y_train)\n",
    "y_pred_processed = model_processed.predict(X_test_processed_vect)\n",
    "print(\"Accuracy with preprocessing:\", accuracy_score(y_test, y_pred_processed))"
   ]
  },
  {
   "cell_type": "code",
   "execution_count": null,
   "id": "b81c9e67-b4e3-4662-aaff-fc6c7e96befd",
   "metadata": {},
   "outputs": [],
   "source": []
  }
 ],
 "metadata": {
  "kernelspec": {
   "display_name": "Python 3 (ipykernel)",
   "language": "python",
   "name": "python3"
  },
  "language_info": {
   "codemirror_mode": {
    "name": "ipython",
    "version": 3
   },
   "file_extension": ".py",
   "mimetype": "text/x-python",
   "name": "python",
   "nbconvert_exporter": "python",
   "pygments_lexer": "ipython3",
   "version": "3.12.4"
  }
 },
 "nbformat": 4,
 "nbformat_minor": 5
}
